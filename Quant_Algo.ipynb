{
  "nbformat": 4,
  "nbformat_minor": 0,
  "metadata": {
    "colab": {
      "private_outputs": true,
      "provenance": [],
      "authorship_tag": "ABX9TyPBHd6BJuzTldecYg4vtst8",
      "include_colab_link": true
    },
    "kernelspec": {
      "name": "python3",
      "display_name": "Python 3"
    },
    "language_info": {
      "name": "python"
    }
  },
  "cells": [
    {
      "cell_type": "markdown",
      "metadata": {
        "id": "view-in-github",
        "colab_type": "text"
      },
      "source": [
        "<a href=\"https://colab.research.google.com/github/mtgr18977/python_notebooks/blob/main/Quant_Algo.ipynb\" target=\"_parent\"><img src=\"https://colab.research.google.com/assets/colab-badge.svg\" alt=\"Open In Colab\"/></a>"
      ]
    },
    {
      "cell_type": "code",
      "execution_count": null,
      "metadata": {
        "id": "uX8jTmndlaSY"
      },
      "outputs": [],
      "source": [
        "!python -m pip install --upgrade pip"
      ]
    },
    {
      "cell_type": "code",
      "source": [
        "!python -m pip install cirq"
      ],
      "metadata": {
        "id": "Un3zK618pnmo"
      },
      "execution_count": null,
      "outputs": []
    },
    {
      "cell_type": "code",
      "source": [
        "!python -m pip install 'cirq-core[contrib]'"
      ],
      "metadata": {
        "id": "6n1CTYqtqzap"
      },
      "execution_count": null,
      "outputs": []
    },
    {
      "cell_type": "code",
      "source": [
        "!sudo apt-get install texlive-latex-base latexmk"
      ],
      "metadata": {
        "id": "dDfPsmgvsKeY"
      },
      "execution_count": null,
      "outputs": []
    },
    {
      "cell_type": "code",
      "source": [
        "!python -c 'import cirq_google; print(cirq_google.Sycamore)'"
      ],
      "metadata": {
        "id": "K92yoFdisPAp"
      },
      "execution_count": null,
      "outputs": []
    },
    {
      "cell_type": "code",
      "source": [
        "try:\n",
        "    import cirq\n",
        "except ImportError:\n",
        "    print(\"installing cirq...\")\n",
        "    !pip install --quiet cirq\n",
        "    import cirq\n",
        "\n",
        "    print(\"installed cirq.\")"
      ],
      "metadata": {
        "id": "Kdd3IiEQvXDA"
      },
      "execution_count": null,
      "outputs": []
    },
    {
      "cell_type": "code",
      "source": [
        "# Pick a qubit.\n",
        "qubit = cirq.GridQubit(0, 0)\n",
        "\n",
        "# Create a circuit that applies a square root of NOT gate, then measures the qubit.\n",
        "circuit = cirq.Circuit(cirq.X(qubit) ** 0.5, cirq.measure(qubit, key='m'))\n",
        "print(\"Circuit:\")\n",
        "print(circuit)\n",
        "\n",
        "# Simulate the circuit several times.\n",
        "simulator = cirq.Simulator()\n",
        "result = simulator.run(circuit, repetitions=20)\n",
        "print(\"Results:\")\n",
        "print(result)"
      ],
      "metadata": {
        "id": "b0Xnmfglvj5K"
      },
      "execution_count": null,
      "outputs": []
    },
    {
      "cell_type": "code",
      "source": [
        "# Using named qubits can be useful for abstract algorithms\n",
        "# as well as algorithms not yet mapped onto hardware.\n",
        "q0 = cirq.NamedQubit('source')\n",
        "q1 = cirq.NamedQubit('target')\n",
        "\n",
        "# Line qubits can be created individually\n",
        "q3 = cirq.LineQubit(3)\n",
        "\n",
        "# Or created in a range\n",
        "# This will create LineQubit(0), LineQubit(1), LineQubit(2)\n",
        "q0, q1, q2 = cirq.LineQubit.range(3)\n",
        "\n",
        "# Grid Qubits can also be referenced individually\n",
        "q4_5 = cirq.GridQubit(4, 5)\n",
        "\n",
        "# Or created in bulk in a square\n",
        "# This will create 16 qubits from (0,0) to (3,3)\n",
        "qubits = cirq.GridQubit.square(4)"
      ],
      "metadata": {
        "id": "zACohRozvorv"
      },
      "execution_count": null,
      "outputs": []
    },
    {
      "cell_type": "code",
      "source": [
        "import cirq_google\n",
        "print(cirq_google.Sycamore)"
      ],
      "metadata": {
        "id": "83iOTtH_yKjo"
      },
      "execution_count": null,
      "outputs": []
    },
    {
      "cell_type": "code",
      "source": [
        "cirq.GridQubit(0, 0)"
      ],
      "metadata": {
        "id": "u3JBowbwyNDJ"
      },
      "execution_count": null,
      "outputs": []
    },
    {
      "cell_type": "code",
      "source": [
        "circuit = cirq.Circuit()\n",
        "qubits = cirq.LineQubit.range(3)\n",
        "circuit.append(cirq.H(qubits[0]))\n",
        "circuit.append(cirq.H(qubits[1]))\n",
        "circuit.append(cirq.H(qubits[2]))\n",
        "print(circuit)"
      ],
      "metadata": {
        "id": "xCBXksGFyec7"
      },
      "execution_count": null,
      "outputs": []
    },
    {
      "cell_type": "markdown",
      "source": [
        "## Algoritmo de pesquisa da Teoria de Grover"
      ],
      "metadata": {
        "id": "3oZuj7k0xhfZ"
      }
    },
    {
      "cell_type": "code",
      "source": [
        "import numpy as np\n",
        "\n",
        "def initialize(n):\n",
        "    # Cria um vetor de estado inicializado uniformemente\n",
        "    psi = [1] * 2**n\n",
        "    psi = np.array(psi) / np.sqrt(2**n)\n",
        "    return psi\n",
        "\n",
        "def oracle(psi, n, target):\n",
        "    # Implementa a função oráculo\n",
        "    for i in range(2**n):\n",
        "        binary = format(i, '0'+str(n)+'b')\n",
        "        if binary == target:\n",
        "            psi[i] = -psi[i]\n",
        "    return psi\n",
        "\n",
        "def grover(psi, n):\n",
        "    # Implementa a operação de Grover\n",
        "    avg = np.average(psi)\n",
        "    for i in range(2**n):\n",
        "        psi[i] = 2*avg - psi[i]\n",
        "    return psi\n",
        "\n",
        "def grover_search(n, target, iterations):\n",
        "    # Executa a pesquisa de Grover\n",
        "    psi = initialize(n)\n",
        "    for _ in range(iterations):\n",
        "        psi = oracle(psi, n, target)\n",
        "        psi = grover(psi, n)\n",
        "    return psi\n",
        "\n",
        "# Exemplo de uso\n",
        "n = 3\n",
        "target = '101'\n",
        "iterations = 1\n",
        "result = grover_search(n, target, iterations)\n",
        "print(result)\n"
      ],
      "metadata": {
        "id": "lBolVO7SxfsK"
      },
      "execution_count": null,
      "outputs": []
    },
    {
      "cell_type": "markdown",
      "source": [
        "Este código cria um circuito quântico que inicializa os qubits em uma superposição de todos os estados possíveis, aplica o oráculo e a operação de Grover para amplificar a probabilidade do estado alvo, e então mede os qubits. O histograma resultante mostra a probabilidade de cada estado após a medição. O estado 101 deve ter a maior probabilidade."
      ],
      "metadata": {
        "id": "SHS2MWPH0Kzj"
      }
    },
    {
      "cell_type": "code",
      "source": [
        "!pip install qiskit qiskit-aer"
      ],
      "metadata": {
        "id": "-uuFhgBvzhTO"
      },
      "execution_count": null,
      "outputs": []
    },
    {
      "cell_type": "markdown",
      "source": [
        "Este código cria um circuito quântico que inicializa os qubits em uma superposição de todos os estados possíveis, aplica o oráculo e a operação de Grover para amplificar a probabilidade do estado alvo, e então mede os qubits. O histograma resultante mostra a probabilidade de cada estado após a medição. O estado 101 deve ter a maior probabilidade."
      ],
      "metadata": {
        "id": "4LFaPO2B1APV"
      }
    },
    {
      "cell_type": "code",
      "source": [
        "from qiskit import QuantumCircuit, execute, Aer\n",
        "from qiskit.visualization import plot_histogram\n",
        "\n",
        "def grover_circuit(target):\n",
        "    # Cria um circuito quântico\n",
        "    qc = QuantumCircuit(len(target), len(target))\n",
        "\n",
        "    # Inicializa os qubits\n",
        "    qc.h(range(len(target)))\n",
        "\n",
        "    # Aplica o oráculo e a operação de Grover\n",
        "    for _ in range(2):\n",
        "        oracle(qc, target)\n",
        "        grover(qc, target)\n",
        "\n",
        "    # Mede os qubits\n",
        "    qc.measure(range(len(target)), range(len(target)))\n",
        "\n",
        "    return qc\n",
        "\n",
        "def oracle(qc, target):\n",
        "    # Aplica o oráculo\n",
        "    for i in range(len(target)):\n",
        "        if target[i] == '0':\n",
        "            qc.x(i)\n",
        "    qc.h(len(target)-1)\n",
        "    qc.mcx(list(range(len(target)-1)), len(target)-1)  # Alterado para mcx\n",
        "    qc.h(len(target)-1)\n",
        "    for i in range(len(target)):\n",
        "        if target[i] == '0':\n",
        "            qc.x(i)\n",
        "\n",
        "def grover(qc, target):\n",
        "    # Aplica a operação de Grover\n",
        "    qc.h(range(len(target)))\n",
        "    qc.x(range(len(target)))\n",
        "    qc.h(len(target)-1)\n",
        "    qc.mcx(list(range(len(target)-1)), len(target)-1)  # Alterado para mcx\n",
        "    qc.h(len(target)-1)\n",
        "    qc.x(range(len(target)))\n",
        "    qc.h(range(len(target)))\n",
        "\n",
        "# Exemplo de uso\n",
        "target = '101'\n",
        "qc = grover_circuit(target)\n",
        "counts = execute(qc, Aer.get_backend('qasm_simulator')).result().get_counts()\n",
        "plot_histogram(counts)\n"
      ],
      "metadata": {
        "id": "op5PkzjE05LG"
      },
      "execution_count": null,
      "outputs": []
    },
    {
      "cell_type": "markdown",
      "source": [
        "# Algoritmo de Grover"
      ],
      "metadata": {
        "id": "wQAIcdb43TCa"
      }
    },
    {
      "cell_type": "markdown",
      "source": [
        "O algoritmo de Grover é um algoritmo quântico proposto por Lov Grover em 1996 para realizar buscas em listas não estruturadas de forma mais eficiente do que os algoritmos clássicos. Ele é conhecido por sua capacidade de encontrar uma entrada específica em uma lista não classificada de `(N)` itens com complexidade de tempo quadrático, em contraste com a complexidade linear dos algoritmos clássicos.\n",
        "\n",
        "**Etapas do Algoritmo de Grover:**\n",
        "\n",
        "1. **Inicialização:**\n",
        "   - Começa com um conjunto de qubits `N` inicializados no estado |0⟩ seguido pela aplicação da transformada de Hadamard em todos os qubits para criar uma superposição uniforme de todos os possíveis estados.\n",
        "\n",
        "2. **Aplicação do Oráculo:**\n",
        "   - Um oráculo é uma operação que marca a entrada desejada. No contexto do algoritmo de Grover, o oráculo identifica e marca a entrada desejada (ou as entradas) na lista.\n",
        "   - O oráculo inverte o sinal do estado correspondente à entrada desejada.\n",
        "\n",
        "3. **Operação de Difusão de Grover:**\n",
        "   - Após a aplicação do oráculo, segue-se a operação de difusão de Grover, que amplifica a amplitude do estado marcado enquanto suprime as amplitudes dos outros estados.\n",
        "   - A difusão é realizada por meio de reflexões sobre a média, que são transformações unitárias projetadas para amplificar o estado desejado e reduzir os demais estados.\n",
        "\n",
        "4. **Iteração:**\n",
        "   - As etapas 2 e 3 são repetidas várias vezes, tipicamente  vezes, onde `(N)` é o número de itens na lista.\n",
        "   - O número de iterações afeta a probabilidade de medir o estado desejado ao final do algoritmo.\n",
        "\n",
        "5. **Medição:**\n",
        "   - Após um número específico de iterações, é realizada a medição dos qubits.\n",
        "   - A probabilidade de encontrar o estado desejado aumenta à medida que o algoritmo é executado mais vezes.\n",
        "\n",
        "**Principais Características:**\n",
        "- **Eficiência:** O algoritmo de Grover oferece uma melhoria quadrática em relação aos algoritmos clássicos para busca não estruturada.\n",
        "- **Aplicabilidade:** Ele é aplicável em diversos contextos, desde busca em bancos de dados não ordenados até problemas de otimização e satisfatibilidade booleana.\n",
        "- **Unidade de Oráculo:** Sua eficácia depende da capacidade de implementar o oráculo de forma eficiente para a tarefa específica.\n",
        "\n",
        "O algoritmo de Grover é um dos algoritmos quânticos mais conhecidos e é notável por sua aplicabilidade em problemas de busca, mostrando o potencial da computação quântica para superar os limites dos algoritmos clássicos em certos casos."
      ],
      "metadata": {
        "id": "w3TlANs010sV"
      }
    },
    {
      "cell_type": "markdown",
      "source": [
        "***"
      ],
      "metadata": {
        "id": "CMKz62x43PtV"
      }
    },
    {
      "cell_type": "markdown",
      "source": [
        "# Greenberger–Horne–Zeilinger"
      ],
      "metadata": {
        "id": "qx8J_T5p3Zu-"
      }
    },
    {
      "cell_type": "markdown",
      "source": [
        "Este código cria um circuito quântico que inicializa os qubits no estado |0⟩, aplica os gates Hadamard e CNOT para criar o estado GHZ, e então mede os qubits. O histograma resultante mostra a probabilidade de cada estado após a medição. Os estados 000 e 111 devem ter as maiores probabilidades"
      ],
      "metadata": {
        "id": "AlIcLYcJ0lJB"
      }
    },
    {
      "cell_type": "code",
      "source": [
        "from qiskit import QuantumCircuit, execute, Aer\n",
        "from qiskit.visualization import plot_histogram\n",
        "\n",
        "# Cria um circuito quântico com 3 qubits e 3 bits clássicos\n",
        "circ = QuantumCircuit(3, 3)\n",
        "\n",
        "# Adiciona um gate Hadamard no qubit 0, colocando este qubit em superposição\n",
        "circ.h(0)\n",
        "\n",
        "# Adiciona um gate CNOT no qubit de controle 0 e qubit alvo 1, colocando os qubits em um estado de Bell\n",
        "circ.cx(0, 1)\n",
        "\n",
        "# Adiciona um gate CNOT no qubit de controle 0 e qubit alvo 2, colocando os qubits em um estado GHZ\n",
        "circ.cx(0, 2)\n",
        "\n",
        "# Mede os qubits\n",
        "circ.measure([0,1,2], [0,1,2])\n",
        "\n",
        "# Executa o circuito no simulador qasm\n",
        "counts = execute(circ, Aer.get_backend('qasm_simulator')).result().get_counts()\n",
        "\n",
        "# Plota um histograma com os resultados\n",
        "plot_histogram(counts)\n"
      ],
      "metadata": {
        "id": "lHfohcFu0mdd"
      },
      "execution_count": null,
      "outputs": []
    },
    {
      "cell_type": "markdown",
      "source": [
        "O estado GHZ, nomeado após os físicos Daniel Greenberger, Michael Horne e Anton Zeilinger, representa um tipo especial de emaranhamento quântico entre múltiplos qubits. No estado GHZ, todos os qubits estão correlacionados de uma maneira específica e altamente entrelaçada.\n",
        "\n",
        "Em um sistema de nn qubits, o estado GHZ é representado pela superposição quântica onde todos os qubits estão simultaneamente em dois estados possíveis, por exemplo, ∣0⟩∣0⟩ ou ∣1⟩∣1⟩, mas todos esses qubits estão correlacionados juntos. A formulação matemática do estado GHZ para `n` qubits é:\n",
        "\n",
        " ∣GHZ⟩= ∣0...0⟩+∣1...1⟩/sqrt(2)\n",
        "\n",
        "Isso significa que todos os qubits estão em uma superposição de estarem todos em `∣0⟩∣0⟩` ou todos em `∣1⟩∣1⟩` ao mesmo tempo, com igual probabilidade.\n",
        "\n",
        "O estado GHZ é interessante porque quando medido, ele exibe correlações quânticas entre os qubits que não têm equivalente em sistemas clássicos. A medição de um qubit no estado GHZ instantaneamente determina o estado de todos os outros qubits do sistema, independentemente da distância entre eles, de uma maneira que desafia a intuição clássica. Esse tipo de emaranhamento é útil em várias aplicações, como comunicação quântica, processamento quântico de informações e estudos de fundamentos da mecânica quântica."
      ],
      "metadata": {
        "id": "HNKmXucc1Dwq"
      }
    }
  ]
}