{
  "nbformat": 4,
  "nbformat_minor": 0,
  "metadata": {
    "colab": {
      "private_outputs": true,
      "provenance": [],
      "authorship_tag": "ABX9TyNgfsIiZVquoths7FHeODLS"
    },
    "kernelspec": {
      "name": "python3",
      "display_name": "Python 3"
    },
    "language_info": {
      "name": "python"
    }
  },
  "cells": [
    {
      "cell_type": "code",
      "source": [
        "def calcular_projecao():\n",
        "    # Solicitar os valores ao usuário\n",
        "    valor_cota = float(input(\"Digite o valor da cota: \"))\n",
        "    ultimo_dividendo = float(input(\"Digite o último dividendo: \"))\n",
        "    variacao_1_mes = float(input(\"Digite a variação do último mês (%): \")) / 100\n",
        "    variacao_3_meses = float(input(\"Digite a variação dos últimos 3 meses (%): \")) / 100\n",
        "    variacao_12_meses = float(input(\"Digite a variação dos últimos 12 meses (%): \")) / 100\n",
        "\n",
        "    # Projeção do investimento\n",
        "    quantidade_cotas = float(input(\"Quantas cotas você deseja comprar? \"))\n",
        "    investimento_total = quantidade_cotas * valor_cota\n",
        "    total_dividendos = quantidade_cotas * ultimo_dividendo\n",
        "\n",
        "    # Projeção do valor futuro baseado nas variações\n",
        "    valor_futuro_1_mes = investimento_total * (1 + variacao_1_mes)\n",
        "    valor_futuro_3_meses = investimento_total * (1 + variacao_3_meses)\n",
        "    valor_futuro_12_meses = investimento_total * (1 + variacao_12_meses)\n",
        "\n",
        "    # Exibição dos resultados\n",
        "    print(f\"Investimento total: R$ {investimento_total:.2f}\")\n",
        "    print(f\"Total de dividendos recebidos: R$ {total_dividendos:.2f}\")\n",
        "    print(f\"Projeção do valor em 1 mês: R$ {valor_futuro_1_mes:.2f}\")\n",
        "    print(f\"Projeção do valor em 3 meses: R$ {valor_futuro_3_meses:.2f}\")\n",
        "    print(f\"Projeção do valor em 12 meses: R$ {valor_futuro_12_meses:.2f}\")\n",
        "\n",
        "# Chamando a função para calcular com os valores inseridos pelo usuário\n",
        "calcular_projecao()\n"
      ],
      "metadata": {
        "id": "30d3ca5ofuqn"
      },
      "execution_count": null,
      "outputs": []
    }
  ]
}