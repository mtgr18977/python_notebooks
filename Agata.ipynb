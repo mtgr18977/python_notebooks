{
  "nbformat": 4,
  "nbformat_minor": 0,
  "metadata": {
    "colab": {
      "provenance": [],
      "authorship_tag": "ABX9TyPMOq+mJoCQ5sErp7a5s0GM",
      "include_colab_link": true
    },
    "kernelspec": {
      "name": "python3",
      "display_name": "Python 3"
    },
    "language_info": {
      "name": "python"
    }
  },
  "cells": [
    {
      "cell_type": "markdown",
      "metadata": {
        "id": "view-in-github",
        "colab_type": "text"
      },
      "source": [
        "<a href=\"https://colab.research.google.com/github/mtgr18977/python_notebooks/blob/main/Agata.ipynb\" target=\"_parent\"><img src=\"https://colab.research.google.com/assets/colab-badge.svg\" alt=\"Open In Colab\"/></a>"
      ]
    },
    {
      "cell_type": "code",
      "execution_count": null,
      "metadata": {
        "colab": {
          "base_uri": "https://localhost:8080/"
        },
        "id": "rE3T9cE70pVB",
        "outputId": "6ee80035-01ea-4443-f320-8044e77fd69b"
      },
      "outputs": [
        {
          "output_type": "stream",
          "name": "stdout",
          "text": [
            "O número de pontos escuros na imagem é: 2106519\n"
          ]
        }
      ],
      "source": [
        "from PIL import Image\n",
        "\n",
        "def contar_pontos_escuros(nome_arquivo, limiar):\n",
        "    imagem = Image.open(nome_arquivo)\n",
        "    largura, altura = imagem.size\n",
        "    contagem = 0\n",
        "\n",
        "    fundo = imagem.getpixel((0, 0))  # Cor do fundo (canto superior esquerdo)\n",
        "\n",
        "    for x in range(largura):\n",
        "        for y in range(altura):\n",
        "            pixel = imagem.getpixel((x, y))\n",
        "            diferenca = sum(abs(pixel[i] - fundo[i]) for i in range(3))  # Calcula a diferença de brilho\n",
        "\n",
        "            if diferenca > limiar:\n",
        "                contagem += 1\n",
        "\n",
        "    return contagem\n",
        "\n",
        "nome_arquivo = \"/content/d5aff293-4521-4e58-95d5-31146b06047b.jpeg\"\n",
        "limiar = 50  # Ajuste esse valor conforme necessário\n",
        "resultado = contar_pontos_escuros(nome_arquivo, limiar)\n",
        "print(f\"O número de pontos escuros na imagem é: {resultado}\")"
      ]
    }
  ]
}